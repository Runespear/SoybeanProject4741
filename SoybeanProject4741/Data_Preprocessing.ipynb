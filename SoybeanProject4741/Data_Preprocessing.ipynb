{
 "cells": [
  {
   "cell_type": "markdown",
   "metadata": {
    "collapsed": true
   },
   "source": [
    "# Adding two new features"
   ]
  },
  {
   "cell_type": "code",
   "execution_count": 2,
   "metadata": {
    "collapsed": true
   },
   "outputs": [],
   "source": [
    "using PyPlot, Compat, DataFrames"
   ]
  },
  {
   "cell_type": "code",
   "execution_count": 4,
   "metadata": {
    "collapsed": false
   },
   "outputs": [
    {
     "name": "stderr",
     "output_type": "stream",
     "text": [
      "WARNING: imported binding for df overwritten in module Main\n"
     ]
    }
   ],
   "source": [
    "dataDirectory = \"Student_Team_Competition_Syngenta_Data/\";\n",
    "file = \"EXPERIMENT DATA CSV (Cleaned).csv\";\n",
    "readData = dataDirectory * file;\n",
    "df = readtable(readData);"
   ]
  },
  {
   "cell_type": "code",
   "execution_count": 5,
   "metadata": {
    "collapsed": false
   },
   "outputs": [
    {
     "data": {
      "text/html": [
       "<table class=\"data-frame\"><tr><th></th><th>YEAR</th><th>EXPERIMENT</th><th>LOCATION</th><th>VARIETY</th><th>FAMILY</th><th>CHECK</th><th>RM</th><th>REPNO</th><th>YIELD</th><th>RM_GRP</th><th>YIELD_GRP</th><th>CLASS_OF</th><th>GRAD</th><th>BAGSOLD</th></tr><tr><th>1</th><td>2009</td><td>09YT000052</td><td>3210</td><td>V000016</td><td>FAM05619</td><td>true</td><td>3.9</td><td>1</td><td>50.3023273</td><td>3.0</td><td>50.0</td><td>-1</td><td>-1</td><td>-1</td></tr><tr><th>2</th><td>2009</td><td>09YT000052</td><td>3210</td><td>V000016</td><td>FAM05619</td><td>true</td><td>3.9</td><td>2</td><td>48.3313053</td><td>3.0</td><td>40.0</td><td>-1</td><td>-1</td><td>-1</td></tr><tr><th>3</th><td>2009</td><td>09YT000052</td><td>3210</td><td>V000018</td><td>FAM05619</td><td>true</td><td>3.7</td><td>1</td><td>53.1032456</td><td>3.0</td><td>50.0</td><td>-1</td><td>-1</td><td>-1</td></tr><tr><th>4</th><td>2009</td><td>09YT000052</td><td>3210</td><td>V000018</td><td>FAM05619</td><td>true</td><td>3.7</td><td>2</td><td>53.1032456</td><td>3.0</td><td>50.0</td><td>-1</td><td>-1</td><td>-1</td></tr><tr><th>5</th><td>2009</td><td>09YT000052</td><td>3210</td><td>V000039</td><td>FAM05625</td><td>true</td><td>3.4</td><td>1</td><td>58.0811359</td><td>3.0</td><td>50.0</td><td>-1</td><td>-1</td><td>-1</td></tr><tr><th>6</th><td>2009</td><td>09YT000052</td><td>3210</td><td>V000039</td><td>FAM05625</td><td>true</td><td>3.4</td><td>2</td><td>58.2893163</td><td>3.0</td><td>50.0</td><td>-1</td><td>-1</td><td>-1</td></tr></table>"
      ],
      "text/plain": [
       "6×14 DataFrames.DataFrame\n",
       "│ Row │ YEAR │ EXPERIMENT   │ LOCATION │ VARIETY   │ FAMILY     │ CHECK │ RM  │\n",
       "├─────┼──────┼──────────────┼──────────┼───────────┼────────────┼───────┼─────┤\n",
       "│ 1   │ 2009 │ \"09YT000052\" │ \"3210\"   │ \"V000016\" │ \"FAM05619\" │ true  │ 3.9 │\n",
       "│ 2   │ 2009 │ \"09YT000052\" │ \"3210\"   │ \"V000016\" │ \"FAM05619\" │ true  │ 3.9 │\n",
       "│ 3   │ 2009 │ \"09YT000052\" │ \"3210\"   │ \"V000018\" │ \"FAM05619\" │ true  │ 3.7 │\n",
       "│ 4   │ 2009 │ \"09YT000052\" │ \"3210\"   │ \"V000018\" │ \"FAM05619\" │ true  │ 3.7 │\n",
       "│ 5   │ 2009 │ \"09YT000052\" │ \"3210\"   │ \"V000039\" │ \"FAM05625\" │ true  │ 3.4 │\n",
       "│ 6   │ 2009 │ \"09YT000052\" │ \"3210\"   │ \"V000039\" │ \"FAM05625\" │ true  │ 3.4 │\n",
       "\n",
       "│ Row │ REPNO │ YIELD   │ RM_GRP │ YIELD_GRP │ CLASS_OF │ GRAD │ BAGSOLD │\n",
       "├─────┼───────┼─────────┼────────┼───────────┼──────────┼──────┼─────────┤\n",
       "│ 1   │ 1     │ 50.3023 │ 3.0    │ 50.0      │ -1       │ -1   │ -1      │\n",
       "│ 2   │ 2     │ 48.3313 │ 3.0    │ 40.0      │ -1       │ -1   │ -1      │\n",
       "│ 3   │ 1     │ 53.1032 │ 3.0    │ 50.0      │ -1       │ -1   │ -1      │\n",
       "│ 4   │ 2     │ 53.1032 │ 3.0    │ 50.0      │ -1       │ -1   │ -1      │\n",
       "│ 5   │ 1     │ 58.0811 │ 3.0    │ 50.0      │ -1       │ -1   │ -1      │\n",
       "│ 6   │ 2     │ 58.2893 │ 3.0    │ 50.0      │ -1       │ -1   │ -1      │"
      ]
     },
     "execution_count": 5,
     "metadata": {},
     "output_type": "execute_result"
    }
   ],
   "source": [
    "# Data cleaning\n",
    "\n",
    "# add new featuers: RM_GRP and YIELD_GRP\n",
    "df[13] = floor(df[:RM])\n",
    "df[14] = 10*floor(df[:YIELD]/10)\n",
    "df\n",
    "\n",
    "\n",
    "df[15:17] = copy(df[[:CLASS_OF, :GRAD, :BAGSOLD]])\n",
    "delete!(df, [:CLASS_OF, :GRAD, :BAGSOLD])\n",
    "\n",
    "names!(df, [:YEAR, :EXPERIMENT, :LOCATION, :VARIETY, :FAMILY, :CHECK, :RM, :REPNO, :YIELD, :RM_GRP, :YIELD_GRP, :CLASS_OF, :GRAD, :BAGSOLD]);\n",
    "\n",
    "head(df)"
   ]
  },
  {
   "cell_type": "markdown",
   "metadata": {},
   "source": [
    "# Grouping avg yield by family and by year"
   ]
  },
  {
   "cell_type": "code",
   "execution_count": 6,
   "metadata": {
    "collapsed": false
   },
   "outputs": [],
   "source": [
    "# Split into years 2009 - 2014, excluding class of 2014\n",
    "\n",
    "yearlist = 2009:2014\n",
    "dfList = [];\n",
    "for i in yearlist\n",
    "    k = copy(df);\n",
    "    k = k[k[:CLASS_OF].!= 2014,:];\n",
    "    k = k[k[:YEAR].== i,:];\n",
    "    push!(dfList,k);\n",
    "end\n"
   ]
  },
  {
   "cell_type": "code",
   "execution_count": 7,
   "metadata": {
    "collapsed": false
   },
   "outputs": [
    {
     "name": "stdout",
     "output_type": "stream",
     "text": [
      "size(dfList[i]) = (11207,14)\n",
      "size(dfList[i]) = (20240,14)\n",
      "size(dfList[i]) = (103906,14)\n",
      "size(dfList[i]) = (82826,14)\n",
      "size(dfList[i]) = (22029,14)\n",
      "size(dfList[i]) = (13455,14)\n"
     ]
    }
   ],
   "source": [
    "# shows the no of data records in each year, excluding class of 2014\n",
    "for i in 1:6\n",
    "    @show size(dfList[i])\n",
    "end"
   ]
  },
  {
   "cell_type": "code",
   "execution_count": 8,
   "metadata": {
    "collapsed": false
   },
   "outputs": [
    {
     "name": "stdout",
     "output_type": "stream",
     "text": [
      "size(uniquefamilies[i]) = (244,2)\n",
      "size(uniquefamilies[i]) = (246,2)\n",
      "size(uniquefamilies[i]) = (829,2)\n",
      "size(uniquefamilies[i]) = (871,2)\n",
      "size(uniquefamilies[i]) = (236,2)\n",
      "size(uniquefamilies[i]) = (155,2)\n"
     ]
    }
   ],
   "source": [
    "uniquefamilies = []\n",
    "for year in yearlist \n",
    "    groupbyfamily = by(dfList[year-2008], :FAMILY,nrow)\n",
    "    names!(groupbyfamily, [:FAMILY, :NROWS])\n",
    "    push!(uniquefamilies,groupbyfamily)\n",
    "end\n",
    "\n",
    "for i in 1:6\n",
    "    @show size(uniquefamilies[i])\n",
    "end;"
   ]
  },
  {
   "cell_type": "code",
   "execution_count": 27,
   "metadata": {
    "collapsed": false
   },
   "outputs": [
    {
     "name": "stderr",
     "output_type": "stream",
     "text": [
      "WARNING: Method definition avgYieldPerFamily(Any) in module Main at In[26]:2 overwritten at In[27]:2.\n"
     ]
    }
   ],
   "source": [
    "function avgYieldPerFamily(i)\n",
    "    avg_yields =[]\n",
    "    for k in 1:size(uniquefamilies[i])[1]\n",
    "        yields = []\n",
    "        for j in 1:size(dfList[i])[1]\n",
    "\n",
    "            if (dfList[i][:FAMILY][j] == uniquefamilies[i][1][k] && dfList[i][:YEAR][j] == i+2008)\n",
    "                push!(yields,dfList[i][:YIELD][j])\n",
    "            end\n",
    "           \n",
    "        end\n",
    "    push!(avg_yields, mean(yields)) \n",
    "    end\n",
    "   return avg_yields\n",
    "end ;\n",
    "\n"
   ]
  },
  {
   "cell_type": "code",
   "execution_count": 25,
   "metadata": {
    "collapsed": false
   },
   "outputs": [
    {
     "data": {
      "text/html": [
       "<table class=\"data-frame\"><tr><th></th><th>FAMILY</th><th>NROWS</th><th>x3</th></tr><tr><th>1</th><td>FAM16708</td><td>4</td><td>47.748400225</td></tr><tr><th>2</th><td>FAM16802</td><td>4</td><td>49.617228049999994</td></tr><tr><th>3</th><td>FAM16806</td><td>5</td><td>57.013705859999995</td></tr><tr><th>4</th><td>FAM16808</td><td>6</td><td>56.42758888333333</td></tr><tr><th>5</th><td>FAM16817</td><td>6</td><td>65.38095603333333</td></tr><tr><th>6</th><td>FAM16850</td><td>17</td><td>58.106756064705884</td></tr></table>"
      ],
      "text/plain": [
       "6×3 DataFrames.DataFrame\n",
       "│ Row │ FAMILY     │ NROWS │ x3      │\n",
       "├─────┼────────────┼───────┼─────────┤\n",
       "│ 1   │ \"FAM16708\" │ 4     │ 47.7484 │\n",
       "│ 2   │ \"FAM16802\" │ 4     │ 49.6172 │\n",
       "│ 3   │ \"FAM16806\" │ 5     │ 57.0137 │\n",
       "│ 4   │ \"FAM16808\" │ 6     │ 56.4276 │\n",
       "│ 5   │ \"FAM16817\" │ 6     │ 65.381  │\n",
       "│ 6   │ \"FAM16850\" │ 17    │ 58.1068 │"
      ]
     },
     "execution_count": 25,
     "metadata": {},
     "output_type": "execute_result"
    }
   ],
   "source": [
    "    uniquefamilies[1][3] = avgYieldPerFamily(1)\n",
    "tail(uniquefamilies[1])dddd"
   ]
  },
  {
   "cell_type": "code",
   "execution_count": 28,
   "metadata": {
    "collapsed": false
   },
   "outputs": [],
   "source": [
    "# group average yield by family\n",
    "for i in 1:6\n",
    "    uniquefamilies[i][3] = avgYieldPerFamily(i)\n",
    "    names!(uniquefamilies[i], [:FAMILY, :NROWS, :AVGYIELD])\n",
    "end"
   ]
  },
  {
   "cell_type": "code",
   "execution_count": 29,
   "metadata": {
    "collapsed": true
   },
   "outputs": [],
   "source": [
    "# sort families by avg yield (highest first)\n",
    "for i in 1:6\n",
    "    sort!(uniquefamilies[i],cols = order(:AVGYIELD), rev=true)\n",
    "    #uniquefamilies[i][4] = cumsum(uniquefamilies[i][:NROWS])\n",
    "  #  names!(uniquefamilies[i], [:FAMILY, :NROWS, :AVGYIELD, :CUM_NROWS])\n",
    "end"
   ]
  },
  {
   "cell_type": "code",
   "execution_count": 35,
   "metadata": {
    "collapsed": false
   },
   "outputs": [
    {
     "data": {
      "text/html": [
       "<table class=\"data-frame\"><tr><th></th><th>FAMILY</th><th>NROWS</th><th>AVGYIELD</th></tr><tr><th>1</th><td>FAM15186</td><td>9</td><td>68.14601278888887</td></tr><tr><th>2</th><td>FAM05285</td><td>10</td><td>67.6675449</td></tr><tr><th>3</th><td>FAM14334</td><td>12</td><td>67.62386417500001</td></tr><tr><th>4</th><td>FAM15536</td><td>9</td><td>65.7998034111111</td></tr><tr><th>5</th><td>FAM14139</td><td>18</td><td>65.68841037222222</td></tr><tr><th>6</th><td>FAM16815</td><td>55</td><td>64.8671511090909</td></tr></table>"
      ],
      "text/plain": [
       "6×3 DataFrames.DataFrame\n",
       "│ Row │ FAMILY     │ NROWS │ AVGYIELD │\n",
       "├─────┼────────────┼───────┼──────────┤\n",
       "│ 1   │ \"FAM15186\" │ 9     │ 68.146   │\n",
       "│ 2   │ \"FAM05285\" │ 10    │ 67.6675  │\n",
       "│ 3   │ \"FAM14334\" │ 12    │ 67.6239  │\n",
       "│ 4   │ \"FAM15536\" │ 9     │ 65.7998  │\n",
       "│ 5   │ \"FAM14139\" │ 18    │ 65.6884  │\n",
       "│ 6   │ \"FAM16815\" │ 55    │ 64.8672  │"
      ]
     },
     "execution_count": 35,
     "metadata": {},
     "output_type": "execute_result"
    }
   ],
   "source": [
    "head(uniquefamilies[1])\n",
    "head(uniquefamilies[3])"
   ]
  },
  {
   "cell_type": "code",
   "execution_count": 37,
   "metadata": {
    "collapsed": false
   },
   "outputs": [
    {
     "name": "stdout",
     "output_type": "stream",
     "text": [
      "numrows = 244\n",
      "numrows = 246\n",
      "numrows = 829\n",
      "numrows = 871\n",
      "numrows = 236\n",
      "numrows = 155\n",
      "nrowssegment = Any[[48.0,97.0,146.0,195.0,244.0],[49.0,98.0,147.0,196.0,246.0],[165.0,331.0,497.0,663.0,829.0],[174.0,348.0,522.0,696.0,871.0],[47.0,94.0,141.0,188.0,236.0],[31.0,62.0,93.0,124.0,155.0]]\n"
     ]
    },
    {
     "data": {
      "text/plain": [
       "6-element Array{Any,1}:\n",
       " [48.0,97.0,146.0,195.0,244.0]  \n",
       " [49.0,98.0,147.0,196.0,246.0]  \n",
       " [165.0,331.0,497.0,663.0,829.0]\n",
       " [174.0,348.0,522.0,696.0,871.0]\n",
       " [47.0,94.0,141.0,188.0,236.0]  \n",
       " [31.0,62.0,93.0,124.0,155.0]   "
      ]
     },
     "execution_count": 37,
     "metadata": {},
     "output_type": "execute_result"
    }
   ],
   "source": [
    "# segment the families into 20 percent segments\n",
    "nrowssegment = []\n",
    "for i in 1:6\n",
    "    numrows = size(uniquefamilies[i])[1]\n",
    "    @show numrows\n",
    "    twenties = zeros(5)\n",
    "    for j in 1:5\n",
    "        twenties[j] = convert(Int64,floor(j*numrows/5))\n",
    "    end\n",
    "    push!(nrowssegment, twenties)\n",
    "end\n",
    "@show nrowssegment"
   ]
  },
  {
   "cell_type": "code",
   "execution_count": 38,
   "metadata": {
    "collapsed": false
   },
   "outputs": [
    {
     "data": {
      "text/html": [
       "<table class=\"data-frame\"><tr><th></th><th>FAMILY</th><th>NROWS</th><th>AVGYIELD</th><th>SEGMENT</th></tr><tr><th>1</th><td>FAM13373</td><td>2</td><td>73.06856175</td><td>1</td></tr><tr><th>2</th><td>FAM13416</td><td>2</td><td>72.8101207</td><td>1</td></tr><tr><th>3</th><td>FAM13511</td><td>4</td><td>72.6569594</td><td>1</td></tr><tr><th>4</th><td>FAM01108</td><td>4</td><td>72.654096925</td><td>1</td></tr><tr><th>5</th><td>FAM13658</td><td>8</td><td>71.772601725</td><td>1</td></tr><tr><th>6</th><td>FAM01019</td><td>4</td><td>71.09806012499999</td><td>1</td></tr></table>"
      ],
      "text/plain": [
       "6×4 DataFrames.DataFrame\n",
       "│ Row │ FAMILY     │ NROWS │ AVGYIELD │ SEGMENT │\n",
       "├─────┼────────────┼───────┼──────────┼─────────┤\n",
       "│ 1   │ \"FAM13373\" │ 2     │ 73.0686  │ 1       │\n",
       "│ 2   │ \"FAM13416\" │ 2     │ 72.8101  │ 1       │\n",
       "│ 3   │ \"FAM13511\" │ 4     │ 72.657   │ 1       │\n",
       "│ 4   │ \"FAM01108\" │ 4     │ 72.6541  │ 1       │\n",
       "│ 5   │ \"FAM13658\" │ 8     │ 71.7726  │ 1       │\n",
       "│ 6   │ \"FAM01019\" │ 4     │ 71.0981  │ 1       │"
      ]
     },
     "execution_count": 38,
     "metadata": {},
     "output_type": "execute_result"
    }
   ],
   "source": [
    "# indicate which 20percent segment family belongs to\n",
    "for i in 1:6\n",
    "    uniquefamilies[i][4] = 0 # initialise segment column to 0\n",
    "    for row in 1:size(uniquefamilies[i])[1] # for every row\n",
    "        if (row <= nrowssegment[i][1])\n",
    "            uniquefamilies[i][row,4] = 1\n",
    "        elseif (row <= nrowssegment[i][2])\n",
    "            uniquefamilies[i][row, 4] = 2\n",
    "\n",
    "        elseif (row <= nrowssegment[i][3]) \n",
    "            uniquefamilies[i][row, 4] = 3\n",
    "        elseif (row <= nrowssegment[i][4])\n",
    "            uniquefamilies[i][row, 4] = 4\n",
    "\n",
    "        elseif (row <= nrowssegment[i][5])\n",
    "            uniquefamilies[i][row, 4] = 5\n",
    "\n",
    "        end\n",
    "    end\n",
    "    names!(uniquefamilies[i], [:FAMILY, :NROWS, :AVGYIELD, :SEGMENT])\n",
    "end\n",
    "head(uniquefamilies[1])"
   ]
  },
  {
   "cell_type": "code",
   "execution_count": 39,
   "metadata": {
    "collapsed": false
   },
   "outputs": [
    {
     "name": "stdout",
     "output_type": "stream",
     "text": [
      "numcols = (size(df))[2] = 14\n"
     ]
    },
    {
     "data": {
      "text/html": [
       "<table class=\"data-frame\"><tr><th></th><th>YEAR</th><th>EXPERIMENT</th><th>LOCATION</th><th>VARIETY</th><th>FAMILY</th><th>CHECK</th><th>RM</th><th>REPNO</th><th>YIELD</th><th>RM_GRP</th><th>YIELD_GRP</th><th>CLASS_OF</th><th>GRAD</th><th>BAGSOLD</th></tr><tr><th>1</th><td>2009</td><td>09YT000052</td><td>3210</td><td>V000016</td><td>FAM05619</td><td>true</td><td>3.9</td><td>1</td><td>50.3023273</td><td>3.0</td><td>50.0</td><td>-1</td><td>-1</td><td>-1</td></tr><tr><th>2</th><td>2009</td><td>09YT000052</td><td>3210</td><td>V000016</td><td>FAM05619</td><td>true</td><td>3.9</td><td>2</td><td>48.3313053</td><td>3.0</td><td>40.0</td><td>-1</td><td>-1</td><td>-1</td></tr><tr><th>3</th><td>2009</td><td>09YT000052</td><td>3210</td><td>V000018</td><td>FAM05619</td><td>true</td><td>3.7</td><td>1</td><td>53.1032456</td><td>3.0</td><td>50.0</td><td>-1</td><td>-1</td><td>-1</td></tr><tr><th>4</th><td>2009</td><td>09YT000052</td><td>3210</td><td>V000018</td><td>FAM05619</td><td>true</td><td>3.7</td><td>2</td><td>53.1032456</td><td>3.0</td><td>50.0</td><td>-1</td><td>-1</td><td>-1</td></tr><tr><th>5</th><td>2009</td><td>09YT000052</td><td>3210</td><td>V000039</td><td>FAM05625</td><td>true</td><td>3.4</td><td>1</td><td>58.0811359</td><td>3.0</td><td>50.0</td><td>-1</td><td>-1</td><td>-1</td></tr><tr><th>6</th><td>2009</td><td>09YT000052</td><td>3210</td><td>V000039</td><td>FAM05625</td><td>true</td><td>3.4</td><td>2</td><td>58.2893163</td><td>3.0</td><td>50.0</td><td>-1</td><td>-1</td><td>-1</td></tr></table>"
      ],
      "text/plain": [
       "6×14 DataFrames.DataFrame\n",
       "│ Row │ YEAR │ EXPERIMENT   │ LOCATION │ VARIETY   │ FAMILY     │ CHECK │ RM  │\n",
       "├─────┼──────┼──────────────┼──────────┼───────────┼────────────┼───────┼─────┤\n",
       "│ 1   │ 2009 │ \"09YT000052\" │ \"3210\"   │ \"V000016\" │ \"FAM05619\" │ true  │ 3.9 │\n",
       "│ 2   │ 2009 │ \"09YT000052\" │ \"3210\"   │ \"V000016\" │ \"FAM05619\" │ true  │ 3.9 │\n",
       "│ 3   │ 2009 │ \"09YT000052\" │ \"3210\"   │ \"V000018\" │ \"FAM05619\" │ true  │ 3.7 │\n",
       "│ 4   │ 2009 │ \"09YT000052\" │ \"3210\"   │ \"V000018\" │ \"FAM05619\" │ true  │ 3.7 │\n",
       "│ 5   │ 2009 │ \"09YT000052\" │ \"3210\"   │ \"V000039\" │ \"FAM05625\" │ true  │ 3.4 │\n",
       "│ 6   │ 2009 │ \"09YT000052\" │ \"3210\"   │ \"V000039\" │ \"FAM05625\" │ true  │ 3.4 │\n",
       "\n",
       "│ Row │ REPNO │ YIELD   │ RM_GRP │ YIELD_GRP │ CLASS_OF │ GRAD │ BAGSOLD │\n",
       "├─────┼───────┼─────────┼────────┼───────────┼──────────┼──────┼─────────┤\n",
       "│ 1   │ 1     │ 50.3023 │ 3.0    │ 50.0      │ -1       │ -1   │ -1      │\n",
       "│ 2   │ 2     │ 48.3313 │ 3.0    │ 40.0      │ -1       │ -1   │ -1      │\n",
       "│ 3   │ 1     │ 53.1032 │ 3.0    │ 50.0      │ -1       │ -1   │ -1      │\n",
       "│ 4   │ 2     │ 53.1032 │ 3.0    │ 50.0      │ -1       │ -1   │ -1      │\n",
       "│ 5   │ 1     │ 58.0811 │ 3.0    │ 50.0      │ -1       │ -1   │ -1      │\n",
       "│ 6   │ 2     │ 58.2893 │ 3.0    │ 50.0      │ -1       │ -1   │ -1      │"
      ]
     },
     "execution_count": 39,
     "metadata": {},
     "output_type": "execute_result"
    }
   ],
   "source": [
    "@show numcols = size(df)[2] #14\n",
    "head(df)"
   ]
  },
  {
   "cell_type": "code",
   "execution_count": 40,
   "metadata": {
    "collapsed": false
   },
   "outputs": [
    {
     "data": {
      "text/html": [
       "<table class=\"data-frame\"><tr><th></th><th>YEAR</th><th>EXPERIMENT</th><th>LOCATION</th><th>VARIETY</th><th>FAMILY</th><th>CHECK</th><th>RM</th><th>REPNO</th><th>YIELD</th><th>RM_GRP</th><th>YIELD_GRP</th><th>FAM_SEGMENT1</th><th>FAM_SEGMENT2</th><th>FAM_SEGMENT3</th><th>FAM_SEGMENT4</th><th>FAM_SEGMENT5</th><th>CLASS_OF</th><th>GRAD</th><th>BAGSOLD</th></tr><tr><th>1</th><td>2009</td><td>09YT000052</td><td>3210</td><td>V000016</td><td>FAM05619</td><td>true</td><td>3.9</td><td>1</td><td>50.3023273</td><td>3.0</td><td>50.0</td><td>0</td><td>0</td><td>0</td><td>0</td><td>0</td><td>-1</td><td>-1</td><td>-1</td></tr><tr><th>2</th><td>2009</td><td>09YT000052</td><td>3210</td><td>V000016</td><td>FAM05619</td><td>true</td><td>3.9</td><td>2</td><td>48.3313053</td><td>3.0</td><td>40.0</td><td>0</td><td>0</td><td>0</td><td>0</td><td>0</td><td>-1</td><td>-1</td><td>-1</td></tr><tr><th>3</th><td>2009</td><td>09YT000052</td><td>3210</td><td>V000018</td><td>FAM05619</td><td>true</td><td>3.7</td><td>1</td><td>53.1032456</td><td>3.0</td><td>50.0</td><td>0</td><td>0</td><td>0</td><td>0</td><td>0</td><td>-1</td><td>-1</td><td>-1</td></tr><tr><th>4</th><td>2009</td><td>09YT000052</td><td>3210</td><td>V000018</td><td>FAM05619</td><td>true</td><td>3.7</td><td>2</td><td>53.1032456</td><td>3.0</td><td>50.0</td><td>0</td><td>0</td><td>0</td><td>0</td><td>0</td><td>-1</td><td>-1</td><td>-1</td></tr><tr><th>5</th><td>2009</td><td>09YT000052</td><td>3210</td><td>V000039</td><td>FAM05625</td><td>true</td><td>3.4</td><td>1</td><td>58.0811359</td><td>3.0</td><td>50.0</td><td>0</td><td>0</td><td>0</td><td>0</td><td>0</td><td>-1</td><td>-1</td><td>-1</td></tr><tr><th>6</th><td>2009</td><td>09YT000052</td><td>3210</td><td>V000039</td><td>FAM05625</td><td>true</td><td>3.4</td><td>2</td><td>58.2893163</td><td>3.0</td><td>50.0</td><td>0</td><td>0</td><td>0</td><td>0</td><td>0</td><td>-1</td><td>-1</td><td>-1</td></tr></table>"
      ],
      "text/plain": [
       "6×19 DataFrames.DataFrame\n",
       "│ Row │ YEAR │ EXPERIMENT   │ LOCATION │ VARIETY   │ FAMILY     │ CHECK │ RM  │\n",
       "├─────┼──────┼──────────────┼──────────┼───────────┼────────────┼───────┼─────┤\n",
       "│ 1   │ 2009 │ \"09YT000052\" │ \"3210\"   │ \"V000016\" │ \"FAM05619\" │ true  │ 3.9 │\n",
       "│ 2   │ 2009 │ \"09YT000052\" │ \"3210\"   │ \"V000016\" │ \"FAM05619\" │ true  │ 3.9 │\n",
       "│ 3   │ 2009 │ \"09YT000052\" │ \"3210\"   │ \"V000018\" │ \"FAM05619\" │ true  │ 3.7 │\n",
       "│ 4   │ 2009 │ \"09YT000052\" │ \"3210\"   │ \"V000018\" │ \"FAM05619\" │ true  │ 3.7 │\n",
       "│ 5   │ 2009 │ \"09YT000052\" │ \"3210\"   │ \"V000039\" │ \"FAM05625\" │ true  │ 3.4 │\n",
       "│ 6   │ 2009 │ \"09YT000052\" │ \"3210\"   │ \"V000039\" │ \"FAM05625\" │ true  │ 3.4 │\n",
       "\n",
       "│ Row │ REPNO │ YIELD   │ RM_GRP │ YIELD_GRP │ FAM_SEGMENT1 │ FAM_SEGMENT2 │\n",
       "├─────┼───────┼─────────┼────────┼───────────┼──────────────┼──────────────┤\n",
       "│ 1   │ 1     │ 50.3023 │ 3.0    │ 50.0      │ 0            │ 0            │\n",
       "│ 2   │ 2     │ 48.3313 │ 3.0    │ 40.0      │ 0            │ 0            │\n",
       "│ 3   │ 1     │ 53.1032 │ 3.0    │ 50.0      │ 0            │ 0            │\n",
       "│ 4   │ 2     │ 53.1032 │ 3.0    │ 50.0      │ 0            │ 0            │\n",
       "│ 5   │ 1     │ 58.0811 │ 3.0    │ 50.0      │ 0            │ 0            │\n",
       "│ 6   │ 2     │ 58.2893 │ 3.0    │ 50.0      │ 0            │ 0            │\n",
       "\n",
       "│ Row │ FAM_SEGMENT3 │ FAM_SEGMENT4 │ FAM_SEGMENT5 │ CLASS_OF │ GRAD │ BAGSOLD │\n",
       "├─────┼──────────────┼──────────────┼──────────────┼──────────┼──────┼─────────┤\n",
       "│ 1   │ 0            │ 0            │ 0            │ -1       │ -1   │ -1      │\n",
       "│ 2   │ 0            │ 0            │ 0            │ -1       │ -1   │ -1      │\n",
       "│ 3   │ 0            │ 0            │ 0            │ -1       │ -1   │ -1      │\n",
       "│ 4   │ 0            │ 0            │ 0            │ -1       │ -1   │ -1      │\n",
       "│ 5   │ 0            │ 0            │ 0            │ -1       │ -1   │ -1      │\n",
       "│ 6   │ 0            │ 0            │ 0            │ -1       │ -1   │ -1      │"
      ]
     },
     "execution_count": 40,
     "metadata": {},
     "output_type": "execute_result"
    }
   ],
   "source": [
    "# PREPARE for one-hot encoding to indicate the segment of the family's avg yield\n",
    "for i in 1:size(nrowssegment[1])[1]\n",
    "    df[numcols+i] = 0\n",
    "end\n",
    "numcols = size(df)[2]\n",
    "df[numcols+1:numcols+3] = copy(df[[:CLASS_OF, :GRAD, :BAGSOLD]])\n",
    "delete!(df, [:CLASS_OF, :GRAD, :BAGSOLD])\n",
    "names!(df, [:YEAR, :EXPERIMENT, :LOCATION, :VARIETY, :FAMILY, :CHECK, :RM, :REPNO, :YIELD, :RM_GRP, :YIELD_GRP, :FAM_SEGMENT1, :FAM_SEGMENT2, :FAM_SEGMENT3, :FAM_SEGMENT4, :FAM_SEGMENT5, :CLASS_OF, :GRAD, :BAGSOLD])\n",
    "head(df)"
   ]
  },
  {
   "cell_type": "code",
   "execution_count": 20,
   "metadata": {
    "collapsed": false
   },
   "outputs": [
    {
     "data": {
      "text/plain": [
       "findSegment (generic function with 1 method)"
      ]
     },
     "execution_count": 20,
     "metadata": {},
     "output_type": "execute_result"
    }
   ],
   "source": [
    "function findSegment(i, family)\n",
    "for row in 1:size(uniquefamilies[i])[1]\n",
    "    if (uniquefamilies[i][row,:FAMILY] == family)\n",
    "        return uniquefamilies[i][row, :SEGMENT]    \n",
    "    end\n",
    "end\n",
    "    return -1 \n",
    "end"
   ]
  },
  {
   "cell_type": "code",
   "execution_count": 21,
   "metadata": {
    "collapsed": false
   },
   "outputs": [],
   "source": [
    "# DO one-hot encoding for family segment\n",
    "for row in 1:size(df)[1]\n",
    "    for year in 1:6\n",
    "        segment = findSegment(year, df[row,:FAMILY])\n",
    "        if (df[row, :YEAR] == year+2008 && segment!=-1)\n",
    "            if (segment == 1)\n",
    "                df[row, :FAM_SEGMENT1] = 1\n",
    "            elseif (segment ==2)\n",
    "                df[row, :FAM_SEGMENT2] = 1\n",
    "            elseif (segment ==3)\n",
    "                df[row, :FAM_SEGMENT3] = 1\n",
    "            elseif (segment==4)\n",
    "                df[row, :FAM_SEGMENT4] = 1\n",
    "            else\n",
    "                df[row, :FAM_SEGMENT5] = 1\n",
    "            end\n",
    "\n",
    "        end\n",
    "    end\n",
    "end\n"
   ]
  },
  {
   "cell_type": "markdown",
   "metadata": {},
   "source": [
    "# Split data into training, test and prediction set (Class of 2014)"
   ]
  },
  {
   "cell_type": "code",
   "execution_count": 22,
   "metadata": {
    "collapsed": true
   },
   "outputs": [],
   "source": [
    "# Split into years 2009 - 2014, excluding class of 2014\n",
    "# do this again as more columns have been added to df\n",
    "\n",
    "yearlist = 2009:2014\n",
    "dfList = [];\n",
    "for i in yearlist\n",
    "    k = copy(df);\n",
    "    k = k[k[:CLASS_OF].!= 2014,:];\n",
    "    k = k[k[:YEAR].== i,:];\n",
    "    push!(dfList,k);\n",
    "end\n",
    "\n",
    "\n",
    "# training[1] = 2009; test 2010\n",
    "# training[2] = 2009,2010; test 2011\n",
    "# training[3] = 2009,2010, 2011; test 2012\n",
    "# training[4] = 2009,2010,2011,2012; test 2013\n",
    "# training[5] = 2009,2010,2011,2012,2013; test 2014\n",
    "\n",
    "\n",
    "#test set\n",
    "folder_string = \"Split_Data/\"\n",
    "extension = \".csv\"\n",
    "for i in yearlist\n",
    "    writetable(folder_string*\"test_\"*string(i)*extension,dfList[i-2008])\n",
    "end\n"
   ]
  },
  {
   "cell_type": "code",
   "execution_count": 23,
   "metadata": {
    "collapsed": false
   },
   "outputs": [
    {
     "data": {
      "text/plain": [
       "6-element Array{Any,1}:\n",
       " (11207,19) \n",
       " (20240,19) \n",
       " (103906,19)\n",
       " (82826,19) \n",
       " (22029,19) \n",
       " (13455,19) "
      ]
     },
     "execution_count": 23,
     "metadata": {},
     "output_type": "execute_result"
    }
   ],
   "source": [
    "# sizes of each test set\n",
    "sizes1 = [];\n",
    "for sets in dfList\n",
    "    push!(sizes1,size(sets));\n",
    "end\n",
    "sizes1"
   ]
  },
  {
   "cell_type": "code",
   "execution_count": 24,
   "metadata": {
    "collapsed": false
   },
   "outputs": [],
   "source": [
    "#prediction set\n",
    "predictionset = copy(df);\n",
    "predictionset = predictionset[predictionset[:CLASS_OF].== 2014,:];\n",
    "writetable(folder_string*\"prediction_set.csv\",predictionset);\n",
    "\n",
    "#training set\n",
    "training5 = copy(df);\n",
    "training5 = training5[training5[:CLASS_OF].!=2014,:];\n",
    "training5 = training5[training5[:YEAR].!=2014,:];\n",
    "training4 = copy(training5);\n",
    "training4 = training4[training4[:YEAR].!=2013,:];\n",
    "training3 = copy(training4);\n",
    "training3 = training3[training3[:YEAR].!=2012,:];\n",
    "training2 = copy(training3);\n",
    "training2 = training2[training2[:YEAR].!=2011,:];\n",
    "training1 = copy(dfList[1]);\n",
    "training = [training1,training2,training3,training4,training5];\n",
    "for i in 1:length(training)\n",
    "    writetable(folder_string*\"training\"* \"[\" * string(i)  *\"]\"*extension,training[i]);\n",
    "end\n",
    "\n"
   ]
  },
  {
   "cell_type": "code",
   "execution_count": 25,
   "metadata": {
    "collapsed": false
   },
   "outputs": [
    {
     "data": {
      "text/plain": [
       "5-element Array{Any,1}:\n",
       " (11207,19) \n",
       " (31447,19) \n",
       " (135353,19)\n",
       " (218179,19)\n",
       " (240208,19)"
      ]
     },
     "execution_count": 25,
     "metadata": {},
     "output_type": "execute_result"
    }
   ],
   "source": [
    "# sizes of training sets\n",
    "sizes = [];\n",
    "for sets in training\n",
    "    push!(sizes,size(sets));\n",
    "end\n",
    "sizes"
   ]
  }
 ],
 "metadata": {
  "kernelspec": {
   "display_name": "Julia 0.5.0-rc3",
   "language": "julia",
   "name": "julia-0.5"
  },
  "language_info": {
   "file_extension": ".jl",
   "mimetype": "application/julia",
   "name": "julia",
   "version": "0.5.0"
  }
 },
 "nbformat": 4,
 "nbformat_minor": 0
}
